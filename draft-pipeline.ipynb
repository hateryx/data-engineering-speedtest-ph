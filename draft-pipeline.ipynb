{
 "cells": [
  {
   "cell_type": "code",
   "execution_count": 2,
   "id": "d19943b5",
   "metadata": {},
   "outputs": [],
   "source": [
    "import pandas as pd"
   ]
  },
  {
   "cell_type": "code",
   "execution_count": 32,
   "id": "a1a57056",
   "metadata": {},
   "outputs": [],
   "source": [
    "path = \"./parquet_files/\"\n",
    "df = pd.read_parquet(path + \"2022-01-01_performance_mobile_tiles.parquet\")\n",
    "df = df.head()"
   ]
  },
  {
   "cell_type": "code",
   "execution_count": 33,
   "id": "524a0d3c",
   "metadata": {},
   "outputs": [
    {
     "ename": "KeyError",
     "evalue": "'tile_x'",
     "output_type": "error",
     "traceback": [
      "\u001b[1;31m---------------------------------------------------------------------------\u001b[0m",
      "\u001b[1;31mKeyError\u001b[0m                                  Traceback (most recent call last)",
      "File \u001b[1;32m~\\anaconda3\\lib\\site-packages\\pandas\\core\\indexes\\base.py:3802\u001b[0m, in \u001b[0;36mIndex.get_loc\u001b[1;34m(self, key, method, tolerance)\u001b[0m\n\u001b[0;32m   3801\u001b[0m \u001b[38;5;28;01mtry\u001b[39;00m:\n\u001b[1;32m-> 3802\u001b[0m     \u001b[38;5;28;01mreturn\u001b[39;00m \u001b[38;5;28;43mself\u001b[39;49m\u001b[38;5;241;43m.\u001b[39;49m\u001b[43m_engine\u001b[49m\u001b[38;5;241;43m.\u001b[39;49m\u001b[43mget_loc\u001b[49m\u001b[43m(\u001b[49m\u001b[43mcasted_key\u001b[49m\u001b[43m)\u001b[49m\n\u001b[0;32m   3803\u001b[0m \u001b[38;5;28;01mexcept\u001b[39;00m \u001b[38;5;167;01mKeyError\u001b[39;00m \u001b[38;5;28;01mas\u001b[39;00m err:\n",
      "File \u001b[1;32m~\\anaconda3\\lib\\site-packages\\pandas\\_libs\\index.pyx:138\u001b[0m, in \u001b[0;36mpandas._libs.index.IndexEngine.get_loc\u001b[1;34m()\u001b[0m\n",
      "File \u001b[1;32m~\\anaconda3\\lib\\site-packages\\pandas\\_libs\\index.pyx:165\u001b[0m, in \u001b[0;36mpandas._libs.index.IndexEngine.get_loc\u001b[1;34m()\u001b[0m\n",
      "File \u001b[1;32mpandas\\_libs\\hashtable_class_helper.pxi:5745\u001b[0m, in \u001b[0;36mpandas._libs.hashtable.PyObjectHashTable.get_item\u001b[1;34m()\u001b[0m\n",
      "File \u001b[1;32mpandas\\_libs\\hashtable_class_helper.pxi:5753\u001b[0m, in \u001b[0;36mpandas._libs.hashtable.PyObjectHashTable.get_item\u001b[1;34m()\u001b[0m\n",
      "\u001b[1;31mKeyError\u001b[0m: 'tile_x'",
      "\nThe above exception was the direct cause of the following exception:\n",
      "\u001b[1;31mKeyError\u001b[0m                                  Traceback (most recent call last)",
      "Cell \u001b[1;32mIn[33], line 1\u001b[0m\n\u001b[1;32m----> 1\u001b[0m \u001b[38;5;28mprint\u001b[39m(\u001b[43mdf\u001b[49m\u001b[43m[\u001b[49m\u001b[38;5;124;43m'\u001b[39;49m\u001b[38;5;124;43mtile_x\u001b[39;49m\u001b[38;5;124;43m'\u001b[39;49m\u001b[43m]\u001b[49m)\n",
      "File \u001b[1;32m~\\anaconda3\\lib\\site-packages\\pandas\\core\\frame.py:3807\u001b[0m, in \u001b[0;36mDataFrame.__getitem__\u001b[1;34m(self, key)\u001b[0m\n\u001b[0;32m   3805\u001b[0m \u001b[38;5;28;01mif\u001b[39;00m \u001b[38;5;28mself\u001b[39m\u001b[38;5;241m.\u001b[39mcolumns\u001b[38;5;241m.\u001b[39mnlevels \u001b[38;5;241m>\u001b[39m \u001b[38;5;241m1\u001b[39m:\n\u001b[0;32m   3806\u001b[0m     \u001b[38;5;28;01mreturn\u001b[39;00m \u001b[38;5;28mself\u001b[39m\u001b[38;5;241m.\u001b[39m_getitem_multilevel(key)\n\u001b[1;32m-> 3807\u001b[0m indexer \u001b[38;5;241m=\u001b[39m \u001b[38;5;28;43mself\u001b[39;49m\u001b[38;5;241;43m.\u001b[39;49m\u001b[43mcolumns\u001b[49m\u001b[38;5;241;43m.\u001b[39;49m\u001b[43mget_loc\u001b[49m\u001b[43m(\u001b[49m\u001b[43mkey\u001b[49m\u001b[43m)\u001b[49m\n\u001b[0;32m   3808\u001b[0m \u001b[38;5;28;01mif\u001b[39;00m is_integer(indexer):\n\u001b[0;32m   3809\u001b[0m     indexer \u001b[38;5;241m=\u001b[39m [indexer]\n",
      "File \u001b[1;32m~\\anaconda3\\lib\\site-packages\\pandas\\core\\indexes\\base.py:3804\u001b[0m, in \u001b[0;36mIndex.get_loc\u001b[1;34m(self, key, method, tolerance)\u001b[0m\n\u001b[0;32m   3802\u001b[0m     \u001b[38;5;28;01mreturn\u001b[39;00m \u001b[38;5;28mself\u001b[39m\u001b[38;5;241m.\u001b[39m_engine\u001b[38;5;241m.\u001b[39mget_loc(casted_key)\n\u001b[0;32m   3803\u001b[0m \u001b[38;5;28;01mexcept\u001b[39;00m \u001b[38;5;167;01mKeyError\u001b[39;00m \u001b[38;5;28;01mas\u001b[39;00m err:\n\u001b[1;32m-> 3804\u001b[0m     \u001b[38;5;28;01mraise\u001b[39;00m \u001b[38;5;167;01mKeyError\u001b[39;00m(key) \u001b[38;5;28;01mfrom\u001b[39;00m \u001b[38;5;21;01merr\u001b[39;00m\n\u001b[0;32m   3805\u001b[0m \u001b[38;5;28;01mexcept\u001b[39;00m \u001b[38;5;167;01mTypeError\u001b[39;00m:\n\u001b[0;32m   3806\u001b[0m     \u001b[38;5;66;03m# If we have a listlike key, _check_indexing_error will raise\u001b[39;00m\n\u001b[0;32m   3807\u001b[0m     \u001b[38;5;66;03m#  InvalidIndexError. Otherwise we fall through and re-raise\u001b[39;00m\n\u001b[0;32m   3808\u001b[0m     \u001b[38;5;66;03m#  the TypeError.\u001b[39;00m\n\u001b[0;32m   3809\u001b[0m     \u001b[38;5;28mself\u001b[39m\u001b[38;5;241m.\u001b[39m_check_indexing_error(key)\n",
      "\u001b[1;31mKeyError\u001b[0m: 'tile_x'"
     ]
    }
   ],
   "source": [
    "print(df['tile_x'])"
   ]
  },
  {
   "cell_type": "code",
   "execution_count": 34,
   "id": "bd3c8a73",
   "metadata": {},
   "outputs": [
    {
     "name": "stdout",
     "output_type": "stream",
     "text": [
      "            quadkey                                               tile  \\\n",
      "0  0022133222312322  POLYGON((-160.02685546875 70.6435894914449, -1...   \n",
      "1  0022133222330023  POLYGON((-160.043334960938 70.6363054807905, -...   \n",
      "2  0022133222330032  POLYGON((-160.037841796875 70.6363054807905, -...   \n",
      "3  0022133222330100  POLYGON((-160.02685546875 70.6417687358462, -1...   \n",
      "4  0022133222330102  POLYGON((-160.02685546875 70.6399478155463, -1...   \n",
      "\n",
      "   avg_d_kbps  avg_u_kbps  avg_lat_ms  tests  devices      tile_x     tile_y  \n",
      "0       19110        7891          77      3        2 -160.026855  70.643589  \n",
      "1       21870       11875          83      2        1 -160.043335  70.636305  \n",
      "2       14157       14560          75     14        2 -160.037842  70.636305  \n",
      "3        5468        9886          83      1        1 -160.026855  70.641769  \n",
      "4       24311       16243          72      1        1 -160.026855  70.639948  \n"
     ]
    }
   ],
   "source": [
    "from shapely.wkt import loads\n",
    "def get_coordinates(wkt_polygon):\n",
    "\n",
    "    # Parse the WKT polygon\n",
    "    polygon = loads(wkt_polygon)\n",
    "\n",
    "    # Extract the coordinates\n",
    "    coordinates = list(polygon.exterior.coords)[0]\n",
    "    longitude = coordinates[0]\n",
    "    latitude = coordinates[1]\n",
    "    \n",
    "    return pd.Series({'tile_x': longitude, 'tile_y': latitude})\n",
    "\n",
    "# df[['tile_x', 'tile_y']] = df.apply(lambda row:\n",
    "#                                             get_coordinates(row['tile']), axis=1)\n",
    "\n",
    "df[['tile_x', 'tile_y']] = df.apply(lambda row:\n",
    "                                            get_coordinates(row['tile']), axis=1, result_type='expand')\n",
    "\n",
    "                                    \n",
    "# df['tile_x'] = df.apply(lambda row:\n",
    "#                                         get_coordinates(row['tile']), axis=1)\n",
    "print(df)"
   ]
  },
  {
   "cell_type": "code",
   "execution_count": 5,
   "id": "45b80175",
   "metadata": {},
   "outputs": [
    {
     "data": {
      "text/plain": [
       "0    POLYGON((-160.037841796875 70.6363054807905, -...\n",
       "1    POLYGON((-160.043334960938 70.6344840663086, -...\n",
       "2    POLYGON((-160.037841796875 70.6344840663086, -...\n",
       "3    POLYGON((-160.037841796875 70.6290188342897, -...\n",
       "4    POLYGON((-162.603149414062 66.8999063523575, -...\n",
       "Name: tile, dtype: object"
      ]
     },
     "execution_count": 5,
     "metadata": {},
     "output_type": "execute_result"
    }
   ],
   "source": [
    "df['tile'].head()"
   ]
  },
  {
   "cell_type": "code",
   "execution_count": 8,
   "id": "4140e400",
   "metadata": {},
   "outputs": [],
   "source": [
    "import shapely"
   ]
  },
  {
   "cell_type": "code",
   "execution_count": 13,
   "id": "3d8426c7",
   "metadata": {},
   "outputs": [
    {
     "name": "stdout",
     "output_type": "stream",
     "text": [
      "<class 'float'> 17.9107958349785\n"
     ]
    }
   ],
   "source": [
    "from shapely.wkt import loads\n",
    "\n",
    "# Your WKT polygon representation\n",
    "wkt_polygon = \"POLYGON((120.250854492188 17.9107958349785, 120.25634765625 17.9107958349785, 120.25634765625 17.9055688119647, 120.250854492188 17.9055688119647, 120.250854492188 17.9107958349785))\"\n",
    "\n",
    "# Parse the WKT polygon\n",
    "polygon = loads(wkt_polygon)\n",
    "\n",
    "# Extract the coordinates\n",
    "coordinates = list(polygon.exterior.coords)[0]\n",
    "\n",
    "longitude, latitude = coordinates\n",
    "print(type(longitude), latitude)\n",
    "# Print the coordinates\n",
    "# for coord in coordinates:\n",
    "#     longitude, latitude = coord\n",
    "#     print(f\"Latitude: {latitude}, Longitude: {longitude}\")\n"
   ]
  },
  {
   "cell_type": "code",
   "execution_count": 1,
   "id": "6c10197b",
   "metadata": {},
   "outputs": [],
   "source": [
    "import reverse_geocoder as rg"
   ]
  },
  {
   "cell_type": "code",
   "execution_count": 2,
   "id": "44b2664b",
   "metadata": {},
   "outputs": [
    {
     "name": "stdout",
     "output_type": "stream",
     "text": [
      "Loading formatted geocoded file...\n"
     ]
    }
   ],
   "source": [
    "coordinates = (51.5214588,-0.1729636),(9.936033, 76.259952),(37.38605,-122.08385)\n",
    "\n",
    "results = rg.search(coordinates)"
   ]
  },
  {
   "cell_type": "code",
   "execution_count": 3,
   "id": "ced8bfc8",
   "metadata": {},
   "outputs": [
    {
     "name": "stdout",
     "output_type": "stream",
     "text": [
      "[{'lat': '51.51116', 'lon': '-0.18426', 'name': 'Bayswater', 'admin1': 'England', 'admin2': 'Greater London', 'cc': 'GB'}, {'lat': '9.93988', 'lon': '76.26022', 'name': 'Cochin', 'admin1': 'Kerala', 'admin2': 'Ernakulam', 'cc': 'IN'}, {'lat': '37.38605', 'lon': '-122.08385', 'name': 'Mountain View', 'admin1': 'California', 'admin2': 'Santa Clara County', 'cc': 'US'}]\n"
     ]
    }
   ],
   "source": [
    "print(results)"
   ]
  },
  {
   "cell_type": "code",
   "execution_count": 21,
   "id": "d92b56f6",
   "metadata": {},
   "outputs": [
    {
     "name": "stdout",
     "output_type": "stream",
     "text": [
      "['Province of Batanes', 'Greater London']\n"
     ]
    }
   ],
   "source": [
    "coordinates = [(20.7920661008256,121.83837890625),(51.5214588,-0.1729636)]\n",
    "results = rg.search(coordinates)\n",
    "admin2_list = [item['admin2'] for item in results]\n",
    "print(admin2_list)"
   ]
  },
  {
   "cell_type": "code",
   "execution_count": 11,
   "id": "61d113ce",
   "metadata": {},
   "outputs": [
    {
     "name": "stdout",
     "output_type": "stream",
     "text": [
      "<class 'tuple'>\n"
     ]
    }
   ],
   "source": [
    "coordinates = (51.5214588,-0.1729636),(9.936033, 76.259952),(37.38605,-122.08385)\n",
    "print(type(coordinates))"
   ]
  },
  {
   "cell_type": "code",
   "execution_count": 27,
   "id": "a7fcb38d",
   "metadata": {},
   "outputs": [],
   "source": [
    "import pandas as pd\n",
    "df = pd.read_csv(\"./raw_csv_files/2023-01-01_performance_mobile_tiles/batch_no_1.csv\")\n",
    "\n",
    "df = df.head()"
   ]
  },
  {
   "cell_type": "code",
   "execution_count": 28,
   "id": "c8078705",
   "metadata": {},
   "outputs": [
    {
     "name": "stdout",
     "output_type": "stream",
     "text": [
      "0     (20.7920661008256, 121.83837890625)\n",
      "1     (20.7869305925703, 121.83837890625)\n",
      "2    (20.4578961550468, 121.964721679688)\n",
      "3    (20.4527493625349, 121.964721679688)\n",
      "4     (20.4578961550468, 121.97021484375)\n",
      "Name: input, dtype: object\n"
     ]
    }
   ],
   "source": [
    "def tuplemaker(lat, long):\n",
    "    return lat, long\n",
    "\n",
    "df['input'] = df.apply(lambda row: tuplemaker(\n",
    "                    row['tile_y'], row['tile_x']), axis=1)\n",
    "\n",
    "print(df['input'])"
   ]
  },
  {
   "cell_type": "code",
   "execution_count": 33,
   "id": "0ae1c875",
   "metadata": {},
   "outputs": [
    {
     "name": "stdout",
     "output_type": "stream",
     "text": [
      "[(20.7920661008256, 121.83837890625), (20.7869305925703, 121.83837890625), (20.4578961550468, 121.964721679688), (20.4527493625349, 121.964721679688), (20.4578961550468, 121.97021484375)]\n"
     ]
    }
   ],
   "source": [
    "admin_tuples = df['input'].apply(lambda x: (x)).tolist()\n",
    "print(admin_tuples)"
   ]
  },
  {
   "cell_type": "code",
   "execution_count": 34,
   "id": "bb08780c",
   "metadata": {},
   "outputs": [
    {
     "name": "stdout",
     "output_type": "stream",
     "text": [
      "[{'lat': '20.78733', 'lon': '121.84177', 'name': 'Itbayat', 'admin1': 'Cagayan Valley', 'admin2': 'Province of Batanes', 'cc': 'PH'}, {'lat': '20.78733', 'lon': '121.84177', 'name': 'Itbayat', 'admin1': 'Cagayan Valley', 'admin2': 'Province of Batanes', 'cc': 'PH'}, {'lat': '20.44865', 'lon': '121.97017', 'name': 'Basco', 'admin1': 'Cagayan Valley', 'admin2': 'Province of Batanes', 'cc': 'PH'}, {'lat': '20.44865', 'lon': '121.97017', 'name': 'Basco', 'admin1': 'Cagayan Valley', 'admin2': 'Province of Batanes', 'cc': 'PH'}, {'lat': '20.44865', 'lon': '121.97017', 'name': 'Basco', 'admin1': 'Cagayan Valley', 'admin2': 'Province of Batanes', 'cc': 'PH'}]\n"
     ]
    }
   ],
   "source": [
    "admin_raw = rg.search(admin_tuples)\n",
    "print(admin_raw)"
   ]
  },
  {
   "cell_type": "code",
   "execution_count": 36,
   "id": "7405de31",
   "metadata": {},
   "outputs": [],
   "source": [
    "admin_1_list = [item['admin1'] for item in admin_raw]\n",
    "df['admin_1'] = admin_1_list\n",
    "\n",
    "admin_2_list = [item['admin2'] for item in admin_raw]\n",
    "df['admin_2'] = admin_2_list"
   ]
  },
  {
   "cell_type": "code",
   "execution_count": 37,
   "id": "84d3fbbd",
   "metadata": {},
   "outputs": [
    {
     "name": "stdout",
     "output_type": "stream",
     "text": [
      "            quadkey                                               tile  \\\n",
      "0  1323011032300102  POLYGON((121.83837890625 20.7920661008256, 121...   \n",
      "1  1323011032300120  POLYGON((121.83837890625 20.7869305925703, 121...   \n",
      "2  1323011210311031  POLYGON((121.964721679688 20.4578961550468, 12...   \n",
      "3  1323011210311033  POLYGON((121.964721679688 20.4527493625349, 12...   \n",
      "4  1323011210311120  POLYGON((121.97021484375 20.4578961550468, 121...   \n",
      "\n",
      "   avg_d_kbps  avg_u_kbps  avg_lat_ms  avg_lat_down_ms  avg_lat_up_ms  tests  \\\n",
      "0       58721        8857          23              NaN          509.0      2   \n",
      "1       82534       12291          29            390.0          342.0      4   \n",
      "2       41644        4975         257           1104.0         1604.0     14   \n",
      "3       37967        5518          39            962.0         1268.0    109   \n",
      "4       12888        3087          26            436.0          560.0      2   \n",
      "\n",
      "   devices      tile_x     tile_y                                 input  \\\n",
      "0        2  121.838379  20.792066   (20.7920661008256, 121.83837890625)   \n",
      "1        1  121.838379  20.786931   (20.7869305925703, 121.83837890625)   \n",
      "2        8  121.964722  20.457896  (20.4578961550468, 121.964721679688)   \n",
      "3       26  121.964722  20.452749  (20.4527493625349, 121.964721679688)   \n",
      "4        1  121.970215  20.457896   (20.4578961550468, 121.97021484375)   \n",
      "\n",
      "          admin_1              admin_2  \n",
      "0  Cagayan Valley  Province of Batanes  \n",
      "1  Cagayan Valley  Province of Batanes  \n",
      "2  Cagayan Valley  Province of Batanes  \n",
      "3  Cagayan Valley  Province of Batanes  \n",
      "4  Cagayan Valley  Province of Batanes  \n"
     ]
    }
   ],
   "source": [
    "print(df.head())"
   ]
  },
  {
   "cell_type": "code",
   "execution_count": 10,
   "id": "1035e8f9",
   "metadata": {},
   "outputs": [],
   "source": [
    "path = \"./raw_csv_files/\"\n",
    "df = pd.read_csv(path + \"2023-04-01_performance_mobile_tiles.csv\")"
   ]
  },
  {
   "cell_type": "code",
   "execution_count": 11,
   "id": "01c76874",
   "metadata": {},
   "outputs": [
    {
     "name": "stdout",
     "output_type": "stream",
     "text": [
      "322114\n",
      "            quadkey                                               tile  \\\n",
      "0  1323011032300102  POLYGON((121.83837890625 20.7920661008256, 121...   \n",
      "1  1323011032300120  POLYGON((121.83837890625 20.7869305925703, 121...   \n",
      "2  1323011210311011  POLYGON((121.964721679688 20.468189222641, 121...   \n",
      "3  1323011210311031  POLYGON((121.964721679688 20.4578961550468, 12...   \n",
      "4  1323011210311032  POLYGON((121.959228515625 20.4527493625349, 12...   \n",
      "\n",
      "     tile_x   tile_y  avg_d_kbps  avg_u_kbps  avg_lat_ms  avg_lat_down_ms  \\\n",
      "0  121.8411  20.7895       33469        7543          22            348.0   \n",
      "1  121.8411  20.7844       65676        9406         167            946.0   \n",
      "2  121.9675  20.4656       11288        2013         479           2162.0   \n",
      "3  121.9675  20.4553       38363         892          89            635.0   \n",
      "4  121.9620  20.4502       19029        2359        1043           1472.0   \n",
      "\n",
      "   avg_lat_up_ms  tests  devices  \n",
      "0          484.0      3        2  \n",
      "1         2009.0     17        8  \n",
      "2          956.0     11        3  \n",
      "3         1565.0      4        4  \n",
      "4         3099.0     15        3  \n"
     ]
    }
   ],
   "source": [
    "print(df['devices'].sum())\n",
    "print(df.head())"
   ]
  },
  {
   "cell_type": "code",
   "execution_count": 8,
   "id": "e1d4a53c",
   "metadata": {},
   "outputs": [],
   "source": [
    "t_df = pd.read_csv(\"test.csv\")"
   ]
  },
  {
   "cell_type": "code",
   "execution_count": 9,
   "id": "02870b70",
   "metadata": {},
   "outputs": [
    {
     "name": "stdout",
     "output_type": "stream",
     "text": [
      "322114\n",
      "   Unnamed: 0           quadkey  \\\n",
      "0           0  1323011032300102   \n",
      "1           1  1323011032300120   \n",
      "2           2  1323011210311011   \n",
      "3           3  1323011210311031   \n",
      "4           4  1323011210311032   \n",
      "\n",
      "                                                tile    tile_x   tile_y  \\\n",
      "0  POLYGON((121.83837890625 20.7920661008256, 121...  121.8411  20.7895   \n",
      "1  POLYGON((121.83837890625 20.7869305925703, 121...  121.8411  20.7844   \n",
      "2  POLYGON((121.964721679688 20.468189222641, 121...  121.9675  20.4656   \n",
      "3  POLYGON((121.964721679688 20.4578961550468, 12...  121.9675  20.4553   \n",
      "4  POLYGON((121.959228515625 20.4527493625349, 12...  121.9620  20.4502   \n",
      "\n",
      "   avg_d_kbps  avg_u_kbps  avg_lat_ms  avg_lat_down_ms  avg_lat_up_ms  tests  \\\n",
      "0       33469        7543          22            348.0          484.0      3   \n",
      "1       65676        9406         167            946.0         2009.0     17   \n",
      "2       11288        2013         479           2162.0          956.0     11   \n",
      "3       38363         892          89            635.0         1565.0      4   \n",
      "4       19029        2359        1043           1472.0         3099.0     15   \n",
      "\n",
      "   devices         admin_1              admin_2  \\\n",
      "0        2  Cagayan Valley  Province of Batanes   \n",
      "1        8  Cagayan Valley  Province of Batanes   \n",
      "2        3  Cagayan Valley  Province of Batanes   \n",
      "3        4  Cagayan Valley  Province of Batanes   \n",
      "4        3  Cagayan Valley  Province of Batanes   \n",
      "\n",
      "                                      input  \n",
      "0  (20.789499999999997, 121.84110000000001)  \n",
      "1  (20.784399999999998, 121.84110000000001)  \n",
      "2            (20.465600000000002, 121.9675)  \n",
      "3                       (20.4553, 121.9675)  \n",
      "4  (20.450200000000002, 121.96200000000002)  \n"
     ]
    }
   ],
   "source": [
    "print(t_df['devices'].sum())\n",
    "print(t_df.head())"
   ]
  },
  {
   "cell_type": "code",
   "execution_count": 18,
   "id": "0581e552",
   "metadata": {},
   "outputs": [
    {
     "name": "stdout",
     "output_type": "stream",
     "text": [
      "0\n",
      "Empty DataFrame\n",
      "Columns: [Unnamed: 0, quadkey, tile, tile_x, tile_y, avg_d_kbps, avg_u_kbps, avg_lat_ms, avg_lat_down_ms, avg_lat_up_ms, tests, devices, admin_1, admin_2, input, qtest, checker]\n",
      "Index: []\n"
     ]
    }
   ],
   "source": [
    "def checker(x,y):\n",
    "    if x == y:\n",
    "        return \"G\"\n",
    "    else:\n",
    "        return \"X\"\n",
    "    \n",
    "t_df['qtest'] = df['quadkey']\n",
    "t_df['checker'] = t_df.apply(lambda row: checker(row['qtest'], row['quadkey']), axis=1)\n",
    "\n",
    "audit_df = t_df[t_df['checker'] == \"X\"]\n",
    "print(len(audit_df))\n",
    "print(audit_df.head())"
   ]
  },
  {
   "cell_type": "code",
   "execution_count": 19,
   "id": "72507678",
   "metadata": {},
   "outputs": [
    {
     "name": "stdout",
     "output_type": "stream",
     "text": [
      "<bound method IndexOpsMixin.nunique of 0        1323011032300102\n",
      "1        1323011032300120\n",
      "2        1323011210311011\n",
      "3        1323011210311031\n",
      "4        1323011210311032\n",
      "               ...       \n",
      "52710    1323320100310130\n",
      "52711    1323320100310200\n",
      "52712    1323320100310201\n",
      "52713    1323320100310202\n",
      "52714    1323320100312002\n",
      "Name: quadkey, Length: 52715, dtype: int64>\n"
     ]
    }
   ],
   "source": [
    "print(t_df['quadkey'].nunique)"
   ]
  },
  {
   "cell_type": "code",
   "execution_count": 20,
   "id": "ea7a9f6c",
   "metadata": {},
   "outputs": [
    {
     "name": "stdout",
     "output_type": "stream",
     "text": [
      "            quadkey                                               tile  \\\n",
      "0  1323011032300102  POLYGON((121.83837890625 20.7920661008256, 121...   \n",
      "1  1323011032300120  POLYGON((121.83837890625 20.7869305925703, 121...   \n",
      "2  1323011210311011  POLYGON((121.964721679688 20.468189222641, 121...   \n",
      "3  1323011210311031  POLYGON((121.964721679688 20.4578961550468, 12...   \n",
      "4  1323011210311032  POLYGON((121.959228515625 20.4527493625349, 12...   \n",
      "\n",
      "     tile_x   tile_y  avg_d_kbps  avg_u_kbps  avg_lat_ms  avg_lat_down_ms  \\\n",
      "0  121.8411  20.7895       33469        7543          22            348.0   \n",
      "1  121.8411  20.7844       65676        9406         167            946.0   \n",
      "2  121.9675  20.4656       11288        2013         479           2162.0   \n",
      "3  121.9675  20.4553       38363         892          89            635.0   \n",
      "4  121.9620  20.4502       19029        2359        1043           1472.0   \n",
      "\n",
      "   avg_lat_up_ms  tests  devices       date  \n",
      "0          484.0      3        2 2023-01-01  \n",
      "1         2009.0     17        8 2023-01-01  \n",
      "2          956.0     11        3 2023-01-01  \n",
      "3         1565.0      4        4 2023-01-01  \n",
      "4         3099.0     15        3 2023-01-01  \n"
     ]
    }
   ],
   "source": [
    "file = \"2023-01-01_performance_mobile_tiles/batch_no_1.csv\"\n",
    "\n",
    "def label_data_rows(df: pd.DataFrame, file):\n",
    "    cover_date = file.split(\"_\")[0]\n",
    "    df['date'] = pd.Timestamp(cover_date)\n",
    "    return df\n",
    "\n",
    "df = pd.read_csv(path + \"2023-04-01_performance_mobile_tiles.csv\")\n",
    "df = label_data_rows(df, file)\n",
    "print(df.head())"
   ]
  },
  {
   "cell_type": "code",
   "execution_count": 21,
   "id": "dbbd4bb6",
   "metadata": {},
   "outputs": [
    {
     "name": "stdout",
     "output_type": "stream",
     "text": [
      "<class 'pandas.core.series.Series'>\n"
     ]
    }
   ],
   "source": [
    "print(type(df['date']))"
   ]
  },
  {
   "cell_type": "code",
   "execution_count": null,
   "id": "5e710c87",
   "metadata": {},
   "outputs": [],
   "source": []
  }
 ],
 "metadata": {
  "kernelspec": {
   "display_name": "Python 3 (ipykernel)",
   "language": "python",
   "name": "python3"
  },
  "language_info": {
   "codemirror_mode": {
    "name": "ipython",
    "version": 3
   },
   "file_extension": ".py",
   "mimetype": "text/x-python",
   "name": "python",
   "nbconvert_exporter": "python",
   "pygments_lexer": "ipython3",
   "version": "3.10.9"
  }
 },
 "nbformat": 4,
 "nbformat_minor": 5
}
