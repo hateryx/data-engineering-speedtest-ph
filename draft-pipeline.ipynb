{
 "cells": [
  {
   "cell_type": "code",
   "execution_count": 1,
   "id": "d19943b5",
   "metadata": {},
   "outputs": [],
   "source": [
    "import pandas as pd"
   ]
  },
  {
   "cell_type": "code",
   "execution_count": 4,
   "id": "a1a57056",
   "metadata": {},
   "outputs": [],
   "source": [
    "path = \"./parquet_files/\"\n",
    "df = pd.read_parquet(path + \"2023-04-01_performance_mobile_tiles.parquet\")\n",
    "df = df.head()"
   ]
  },
  {
   "cell_type": "code",
   "execution_count": 7,
   "id": "df1ed977",
   "metadata": {},
   "outputs": [],
   "source": [
    "from shapely.wkt import loads\n",
    "def get_coordinates(wkt_polygon):\n",
    "\n",
    "    # Parse the WKT polygon\n",
    "    polygon = loads(wkt_polygon)\n",
    "\n",
    "    # Extract the coordinates\n",
    "    coordinates = list(polygon.exterior.coords)[0]\n",
    "    longitude, latitude = coordinates\n",
    "\n",
    "    return longitude, latitude\n",
    "\n",
    "df['tile_x'] = df.apply(lambda row:\n",
    "                                        get_coordinates(row['tile']), axis=1)"
   ]
  },
  {
   "cell_type": "code",
   "execution_count": 8,
   "id": "27c4448c",
   "metadata": {},
   "outputs": [
    {
     "name": "stdout",
     "output_type": "stream",
     "text": [
      "0    (-160.043334960938, 70.6363054807905)\n",
      "1    (-163.009643554688, 69.7428461351394)\n",
      "2    (-162.603149414062, 66.8999063523575)\n",
      "3    (-162.603149414062, 66.8977510769183)\n",
      "4    (-162.603149414062, 66.8955956114071)\n",
      "Name: tile_x, dtype: object\n"
     ]
    }
   ],
   "source": [
    "print(df['tile_x'])"
   ]
  },
  {
   "cell_type": "code",
   "execution_count": 5,
   "id": "45b80175",
   "metadata": {},
   "outputs": [
    {
     "data": {
      "text/plain": [
       "0    POLYGON((-160.037841796875 70.6363054807905, -...\n",
       "1    POLYGON((-160.043334960938 70.6344840663086, -...\n",
       "2    POLYGON((-160.037841796875 70.6344840663086, -...\n",
       "3    POLYGON((-160.037841796875 70.6290188342897, -...\n",
       "4    POLYGON((-162.603149414062 66.8999063523575, -...\n",
       "Name: tile, dtype: object"
      ]
     },
     "execution_count": 5,
     "metadata": {},
     "output_type": "execute_result"
    }
   ],
   "source": [
    "df['tile'].head()"
   ]
  },
  {
   "cell_type": "code",
   "execution_count": 8,
   "id": "4140e400",
   "metadata": {},
   "outputs": [],
   "source": [
    "import shapely"
   ]
  },
  {
   "cell_type": "code",
   "execution_count": 13,
   "id": "3d8426c7",
   "metadata": {},
   "outputs": [
    {
     "name": "stdout",
     "output_type": "stream",
     "text": [
      "<class 'float'> 17.9107958349785\n"
     ]
    }
   ],
   "source": [
    "from shapely.wkt import loads\n",
    "\n",
    "# Your WKT polygon representation\n",
    "wkt_polygon = \"POLYGON((120.250854492188 17.9107958349785, 120.25634765625 17.9107958349785, 120.25634765625 17.9055688119647, 120.250854492188 17.9055688119647, 120.250854492188 17.9107958349785))\"\n",
    "\n",
    "# Parse the WKT polygon\n",
    "polygon = loads(wkt_polygon)\n",
    "\n",
    "# Extract the coordinates\n",
    "coordinates = list(polygon.exterior.coords)[0]\n",
    "\n",
    "longitude, latitude = coordinates\n",
    "print(type(longitude), latitude)\n",
    "# Print the coordinates\n",
    "# for coord in coordinates:\n",
    "#     longitude, latitude = coord\n",
    "#     print(f\"Latitude: {latitude}, Longitude: {longitude}\")\n"
   ]
  },
  {
   "cell_type": "code",
   "execution_count": 1,
   "id": "6c10197b",
   "metadata": {},
   "outputs": [],
   "source": [
    "import reverse_geocoder as rg"
   ]
  },
  {
   "cell_type": "code",
   "execution_count": 2,
   "id": "44b2664b",
   "metadata": {},
   "outputs": [
    {
     "name": "stdout",
     "output_type": "stream",
     "text": [
      "Loading formatted geocoded file...\n"
     ]
    }
   ],
   "source": [
    "coordinates = (51.5214588,-0.1729636),(9.936033, 76.259952),(37.38605,-122.08385)\n",
    "\n",
    "results = rg.search(coordinates)"
   ]
  },
  {
   "cell_type": "code",
   "execution_count": 3,
   "id": "ced8bfc8",
   "metadata": {},
   "outputs": [
    {
     "name": "stdout",
     "output_type": "stream",
     "text": [
      "[{'lat': '51.51116', 'lon': '-0.18426', 'name': 'Bayswater', 'admin1': 'England', 'admin2': 'Greater London', 'cc': 'GB'}, {'lat': '9.93988', 'lon': '76.26022', 'name': 'Cochin', 'admin1': 'Kerala', 'admin2': 'Ernakulam', 'cc': 'IN'}, {'lat': '37.38605', 'lon': '-122.08385', 'name': 'Mountain View', 'admin1': 'California', 'admin2': 'Santa Clara County', 'cc': 'US'}]\n"
     ]
    }
   ],
   "source": [
    "print(results)"
   ]
  },
  {
   "cell_type": "code",
   "execution_count": 21,
   "id": "d92b56f6",
   "metadata": {},
   "outputs": [
    {
     "name": "stdout",
     "output_type": "stream",
     "text": [
      "['Province of Batanes', 'Greater London']\n"
     ]
    }
   ],
   "source": [
    "coordinates = [(20.7920661008256,121.83837890625),(51.5214588,-0.1729636)]\n",
    "results = rg.search(coordinates)\n",
    "admin2_list = [item['admin2'] for item in results]\n",
    "print(admin2_list)"
   ]
  },
  {
   "cell_type": "code",
   "execution_count": 11,
   "id": "61d113ce",
   "metadata": {},
   "outputs": [
    {
     "name": "stdout",
     "output_type": "stream",
     "text": [
      "<class 'tuple'>\n"
     ]
    }
   ],
   "source": [
    "coordinates = (51.5214588,-0.1729636),(9.936033, 76.259952),(37.38605,-122.08385)\n",
    "print(type(coordinates))"
   ]
  },
  {
   "cell_type": "code",
   "execution_count": 27,
   "id": "a7fcb38d",
   "metadata": {},
   "outputs": [],
   "source": [
    "import pandas as pd\n",
    "df = pd.read_csv(\"./raw_csv_files/2023-01-01_performance_mobile_tiles/batch_no_1.csv\")\n",
    "\n",
    "df = df.head()"
   ]
  },
  {
   "cell_type": "code",
   "execution_count": 28,
   "id": "c8078705",
   "metadata": {},
   "outputs": [
    {
     "name": "stdout",
     "output_type": "stream",
     "text": [
      "0     (20.7920661008256, 121.83837890625)\n",
      "1     (20.7869305925703, 121.83837890625)\n",
      "2    (20.4578961550468, 121.964721679688)\n",
      "3    (20.4527493625349, 121.964721679688)\n",
      "4     (20.4578961550468, 121.97021484375)\n",
      "Name: input, dtype: object\n"
     ]
    }
   ],
   "source": [
    "def tuplemaker(lat, long):\n",
    "    return lat, long\n",
    "\n",
    "df['input'] = df.apply(lambda row: tuplemaker(\n",
    "                    row['tile_y'], row['tile_x']), axis=1)\n",
    "\n",
    "print(df['input'])"
   ]
  },
  {
   "cell_type": "code",
   "execution_count": 33,
   "id": "0ae1c875",
   "metadata": {},
   "outputs": [
    {
     "name": "stdout",
     "output_type": "stream",
     "text": [
      "[(20.7920661008256, 121.83837890625), (20.7869305925703, 121.83837890625), (20.4578961550468, 121.964721679688), (20.4527493625349, 121.964721679688), (20.4578961550468, 121.97021484375)]\n"
     ]
    }
   ],
   "source": [
    "admin_tuples = df['input'].apply(lambda x: (x)).tolist()\n",
    "print(admin_tuples)"
   ]
  },
  {
   "cell_type": "code",
   "execution_count": 34,
   "id": "bb08780c",
   "metadata": {},
   "outputs": [
    {
     "name": "stdout",
     "output_type": "stream",
     "text": [
      "[{'lat': '20.78733', 'lon': '121.84177', 'name': 'Itbayat', 'admin1': 'Cagayan Valley', 'admin2': 'Province of Batanes', 'cc': 'PH'}, {'lat': '20.78733', 'lon': '121.84177', 'name': 'Itbayat', 'admin1': 'Cagayan Valley', 'admin2': 'Province of Batanes', 'cc': 'PH'}, {'lat': '20.44865', 'lon': '121.97017', 'name': 'Basco', 'admin1': 'Cagayan Valley', 'admin2': 'Province of Batanes', 'cc': 'PH'}, {'lat': '20.44865', 'lon': '121.97017', 'name': 'Basco', 'admin1': 'Cagayan Valley', 'admin2': 'Province of Batanes', 'cc': 'PH'}, {'lat': '20.44865', 'lon': '121.97017', 'name': 'Basco', 'admin1': 'Cagayan Valley', 'admin2': 'Province of Batanes', 'cc': 'PH'}]\n"
     ]
    }
   ],
   "source": [
    "admin_raw = rg.search(admin_tuples)\n",
    "print(admin_raw)"
   ]
  },
  {
   "cell_type": "code",
   "execution_count": 36,
   "id": "7405de31",
   "metadata": {},
   "outputs": [],
   "source": [
    "admin_1_list = [item['admin1'] for item in admin_raw]\n",
    "df['admin_1'] = admin_1_list\n",
    "\n",
    "admin_2_list = [item['admin2'] for item in admin_raw]\n",
    "df['admin_2'] = admin_2_list"
   ]
  },
  {
   "cell_type": "code",
   "execution_count": 37,
   "id": "84d3fbbd",
   "metadata": {},
   "outputs": [
    {
     "name": "stdout",
     "output_type": "stream",
     "text": [
      "            quadkey                                               tile  \\\n",
      "0  1323011032300102  POLYGON((121.83837890625 20.7920661008256, 121...   \n",
      "1  1323011032300120  POLYGON((121.83837890625 20.7869305925703, 121...   \n",
      "2  1323011210311031  POLYGON((121.964721679688 20.4578961550468, 12...   \n",
      "3  1323011210311033  POLYGON((121.964721679688 20.4527493625349, 12...   \n",
      "4  1323011210311120  POLYGON((121.97021484375 20.4578961550468, 121...   \n",
      "\n",
      "   avg_d_kbps  avg_u_kbps  avg_lat_ms  avg_lat_down_ms  avg_lat_up_ms  tests  \\\n",
      "0       58721        8857          23              NaN          509.0      2   \n",
      "1       82534       12291          29            390.0          342.0      4   \n",
      "2       41644        4975         257           1104.0         1604.0     14   \n",
      "3       37967        5518          39            962.0         1268.0    109   \n",
      "4       12888        3087          26            436.0          560.0      2   \n",
      "\n",
      "   devices      tile_x     tile_y                                 input  \\\n",
      "0        2  121.838379  20.792066   (20.7920661008256, 121.83837890625)   \n",
      "1        1  121.838379  20.786931   (20.7869305925703, 121.83837890625)   \n",
      "2        8  121.964722  20.457896  (20.4578961550468, 121.964721679688)   \n",
      "3       26  121.964722  20.452749  (20.4527493625349, 121.964721679688)   \n",
      "4        1  121.970215  20.457896   (20.4578961550468, 121.97021484375)   \n",
      "\n",
      "          admin_1              admin_2  \n",
      "0  Cagayan Valley  Province of Batanes  \n",
      "1  Cagayan Valley  Province of Batanes  \n",
      "2  Cagayan Valley  Province of Batanes  \n",
      "3  Cagayan Valley  Province of Batanes  \n",
      "4  Cagayan Valley  Province of Batanes  \n"
     ]
    }
   ],
   "source": [
    "print(df.head())"
   ]
  },
  {
   "cell_type": "code",
   "execution_count": null,
   "id": "1035e8f9",
   "metadata": {},
   "outputs": [],
   "source": []
  }
 ],
 "metadata": {
  "kernelspec": {
   "display_name": "Python 3 (ipykernel)",
   "language": "python",
   "name": "python3"
  },
  "language_info": {
   "codemirror_mode": {
    "name": "ipython",
    "version": 3
   },
   "file_extension": ".py",
   "mimetype": "text/x-python",
   "name": "python",
   "nbconvert_exporter": "python",
   "pygments_lexer": "ipython3",
   "version": "3.10.9"
  }
 },
 "nbformat": 4,
 "nbformat_minor": 5
}
