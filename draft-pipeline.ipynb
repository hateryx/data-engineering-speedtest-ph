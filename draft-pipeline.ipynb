{
 "cells": [
  {
   "cell_type": "code",
   "execution_count": 1,
   "id": "d19943b5",
   "metadata": {},
   "outputs": [],
   "source": [
    "import pandas as pd"
   ]
  },
  {
   "cell_type": "code",
   "execution_count": 4,
   "id": "a1a57056",
   "metadata": {},
   "outputs": [
    {
     "data": {
      "text/html": [
       "<div>\n",
       "<style scoped>\n",
       "    .dataframe tbody tr th:only-of-type {\n",
       "        vertical-align: middle;\n",
       "    }\n",
       "\n",
       "    .dataframe tbody tr th {\n",
       "        vertical-align: top;\n",
       "    }\n",
       "\n",
       "    .dataframe thead th {\n",
       "        text-align: right;\n",
       "    }\n",
       "</style>\n",
       "<table border=\"1\" class=\"dataframe\">\n",
       "  <thead>\n",
       "    <tr style=\"text-align: right;\">\n",
       "      <th></th>\n",
       "      <th>quadkey</th>\n",
       "      <th>tile</th>\n",
       "      <th>avg_d_kbps</th>\n",
       "      <th>avg_u_kbps</th>\n",
       "      <th>avg_lat_ms</th>\n",
       "      <th>tests</th>\n",
       "      <th>devices</th>\n",
       "    </tr>\n",
       "  </thead>\n",
       "  <tbody>\n",
       "    <tr>\n",
       "      <th>0</th>\n",
       "      <td>0022133222330032</td>\n",
       "      <td>POLYGON((-160.037841796875 70.6363054807905, -...</td>\n",
       "      <td>4774</td>\n",
       "      <td>13998</td>\n",
       "      <td>318</td>\n",
       "      <td>1</td>\n",
       "      <td>1</td>\n",
       "    </tr>\n",
       "    <tr>\n",
       "      <th>1</th>\n",
       "      <td>0022133222330201</td>\n",
       "      <td>POLYGON((-160.043334960938 70.6344840663086, -...</td>\n",
       "      <td>1426</td>\n",
       "      <td>23038</td>\n",
       "      <td>160</td>\n",
       "      <td>1</td>\n",
       "      <td>1</td>\n",
       "    </tr>\n",
       "    <tr>\n",
       "      <th>2</th>\n",
       "      <td>0022133222330210</td>\n",
       "      <td>POLYGON((-160.037841796875 70.6344840663086, -...</td>\n",
       "      <td>3830</td>\n",
       "      <td>19871</td>\n",
       "      <td>204</td>\n",
       "      <td>1</td>\n",
       "      <td>1</td>\n",
       "    </tr>\n",
       "    <tr>\n",
       "      <th>3</th>\n",
       "      <td>0022133222330232</td>\n",
       "      <td>POLYGON((-160.037841796875 70.6290188342897, -...</td>\n",
       "      <td>1208</td>\n",
       "      <td>8722</td>\n",
       "      <td>109</td>\n",
       "      <td>2</td>\n",
       "      <td>1</td>\n",
       "    </tr>\n",
       "    <tr>\n",
       "      <th>4</th>\n",
       "      <td>0022332203013331</td>\n",
       "      <td>POLYGON((-162.603149414062 66.8999063523575, -...</td>\n",
       "      <td>3817</td>\n",
       "      <td>1963</td>\n",
       "      <td>48</td>\n",
       "      <td>1</td>\n",
       "      <td>1</td>\n",
       "    </tr>\n",
       "  </tbody>\n",
       "</table>\n",
       "</div>"
      ],
      "text/plain": [
       "            quadkey                                               tile  \\\n",
       "0  0022133222330032  POLYGON((-160.037841796875 70.6363054807905, -...   \n",
       "1  0022133222330201  POLYGON((-160.043334960938 70.6344840663086, -...   \n",
       "2  0022133222330210  POLYGON((-160.037841796875 70.6344840663086, -...   \n",
       "3  0022133222330232  POLYGON((-160.037841796875 70.6290188342897, -...   \n",
       "4  0022332203013331  POLYGON((-162.603149414062 66.8999063523575, -...   \n",
       "\n",
       "   avg_d_kbps  avg_u_kbps  avg_lat_ms  tests  devices  \n",
       "0        4774       13998         318      1        1  \n",
       "1        1426       23038         160      1        1  \n",
       "2        3830       19871         204      1        1  \n",
       "3        1208        8722         109      2        1  \n",
       "4        3817        1963          48      1        1  "
      ]
     },
     "execution_count": 4,
     "metadata": {},
     "output_type": "execute_result"
    }
   ],
   "source": [
    "path = \"./parquet_files/\"\n",
    "df = pd.read_parquet(path + \"2022-07-01_performance_mobile_tiles.parquet\")\n",
    "df.head()"
   ]
  },
  {
   "cell_type": "code",
   "execution_count": 5,
   "id": "45b80175",
   "metadata": {},
   "outputs": [
    {
     "data": {
      "text/plain": [
       "0    POLYGON((-160.037841796875 70.6363054807905, -...\n",
       "1    POLYGON((-160.043334960938 70.6344840663086, -...\n",
       "2    POLYGON((-160.037841796875 70.6344840663086, -...\n",
       "3    POLYGON((-160.037841796875 70.6290188342897, -...\n",
       "4    POLYGON((-162.603149414062 66.8999063523575, -...\n",
       "Name: tile, dtype: object"
      ]
     },
     "execution_count": 5,
     "metadata": {},
     "output_type": "execute_result"
    }
   ],
   "source": [
    "df['tile'].head()"
   ]
  },
  {
   "cell_type": "code",
   "execution_count": 8,
   "id": "4140e400",
   "metadata": {},
   "outputs": [],
   "source": [
    "import shapely"
   ]
  },
  {
   "cell_type": "code",
   "execution_count": 13,
   "id": "3d8426c7",
   "metadata": {},
   "outputs": [
    {
     "name": "stdout",
     "output_type": "stream",
     "text": [
      "<class 'float'> 17.9107958349785\n"
     ]
    }
   ],
   "source": [
    "from shapely.wkt import loads\n",
    "\n",
    "# Your WKT polygon representation\n",
    "wkt_polygon = \"POLYGON((120.250854492188 17.9107958349785, 120.25634765625 17.9107958349785, 120.25634765625 17.9055688119647, 120.250854492188 17.9055688119647, 120.250854492188 17.9107958349785))\"\n",
    "\n",
    "# Parse the WKT polygon\n",
    "polygon = loads(wkt_polygon)\n",
    "\n",
    "# Extract the coordinates\n",
    "coordinates = list(polygon.exterior.coords)[0]\n",
    "\n",
    "longitude, latitude = coordinates\n",
    "print(type(longitude), latitude)\n",
    "# Print the coordinates\n",
    "# for coord in coordinates:\n",
    "#     longitude, latitude = coord\n",
    "#     print(f\"Latitude: {latitude}, Longitude: {longitude}\")\n"
   ]
  },
  {
   "cell_type": "code",
   "execution_count": 1,
   "id": "6c10197b",
   "metadata": {},
   "outputs": [],
   "source": [
    "import reverse_geocoder as rg"
   ]
  },
  {
   "cell_type": "code",
   "execution_count": 2,
   "id": "0ce480ae",
   "metadata": {},
   "outputs": [
    {
     "name": "stdout",
     "output_type": "stream",
     "text": [
      "Loading formatted geocoded file...\n"
     ]
    }
   ],
   "source": [
    "coordinates = (51.5214588,-0.1729636),(9.936033, 76.259952),(37.38605,-122.08385)\n",
    "\n",
    "results = rg.search(coordinates)"
   ]
  },
  {
   "cell_type": "code",
   "execution_count": 3,
   "id": "b6db4a8b",
   "metadata": {},
   "outputs": [
    {
     "name": "stdout",
     "output_type": "stream",
     "text": [
      "[{'lat': '51.51116', 'lon': '-0.18426', 'name': 'Bayswater', 'admin1': 'England', 'admin2': 'Greater London', 'cc': 'GB'}, {'lat': '9.93988', 'lon': '76.26022', 'name': 'Cochin', 'admin1': 'Kerala', 'admin2': 'Ernakulam', 'cc': 'IN'}, {'lat': '37.38605', 'lon': '-122.08385', 'name': 'Mountain View', 'admin1': 'California', 'admin2': 'Santa Clara County', 'cc': 'US'}]\n"
     ]
    }
   ],
   "source": [
    "print(results)"
   ]
  },
  {
   "cell_type": "code",
   "execution_count": 5,
   "id": "73b804b3",
   "metadata": {},
   "outputs": [
    {
     "name": "stdout",
     "output_type": "stream",
     "text": [
      "[{'lat': '20.78733', 'lon': '121.84177', 'name': 'Itbayat', 'admin1': 'Cagayan Valley', 'admin2': 'Province of Batanes', 'cc': 'PH'}]\n"
     ]
    }
   ],
   "source": [
    "coordinates = (20.7920661008256,121.83837890625)\n",
    "results = rg.search(coordinates)\n",
    "print(results)"
   ]
  },
  {
   "cell_type": "code",
   "execution_count": null,
   "id": "5f1ba20d",
   "metadata": {},
   "outputs": [],
   "source": []
  }
 ],
 "metadata": {
  "kernelspec": {
   "display_name": "Python 3 (ipykernel)",
   "language": "python",
   "name": "python3"
  },
  "language_info": {
   "codemirror_mode": {
    "name": "ipython",
    "version": 3
   },
   "file_extension": ".py",
   "mimetype": "text/x-python",
   "name": "python",
   "nbconvert_exporter": "python",
   "pygments_lexer": "ipython3",
   "version": "3.10.9"
  }
 },
 "nbformat": 4,
 "nbformat_minor": 5
}
